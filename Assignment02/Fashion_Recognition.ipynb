{
 "cells": [
  {
   "cell_type": "code",
   "execution_count": null,
   "metadata": {},
   "outputs": [],
   "source": [
    "import csv\n",
    "import pandas as pd\n",
    "import numpy as np\n",
    "import matplotlib.pyplot as plt\n",
    "from sklearn import datasets,svm,tree, metrics\n",
    "from sklearn.neighbors import KNeighborsClassifier\n",
    "from sklearn.naive_bayes import BernoulliNB\n",
    "import sklearn"
   ]
  },
  {
   "cell_type": "code",
   "execution_count": null,
   "metadata": {},
   "outputs": [],
   "source": [
    "def load_file(fileName):\n",
    "    dataset = pd.read_table(fileName, header=0, sep=\",\", encoding=\"unicode_escape\")\n",
    "    \n",
    "    return dataset"
   ]
  },
  {
   "cell_type": "code",
   "execution_count": null,
   "metadata": {
    "tags": []
   },
   "outputs": [],
   "source": [
    "features = [\"label\"]\n",
    "pixels = [\"pixel\"+str(i) for i in range(1,785)]\n",
    "print(\"Loading data.....\")\n",
    "dataset = load_file(\"fashion-mnist_train.csv\")\n",
    "trainX,testX = dataset[pixels], dataset[features[0]]\n",
    "dataset = load_file(\"fashion-mnist_test.csv\")\n",
    "trainY,testY = dataset[pixels], dataset[features[0]]\n"
   ]
  },
  {
   "cell_type": "code",
   "execution_count": null,
   "metadata": {},
   "outputs": [],
   "source": [
    "print(\"Learning Model.....\")\n",
    "Classifiers = [tree.DecisionTreeClassifier(),KNeighborsClassifier(5),BernoulliNB(),sklearn.linear_model.Perceptron(),svm.SVC(gamma=0.001)]\n",
    "for classifier in Classifiers:\n",
    "    classifier.fit(trainX, testX)"
   ]
  },
  {
   "cell_type": "code",
   "execution_count": null,
   "metadata": {},
   "outputs": [],
   "source": [
    "print(\"Classifying test data......\")\n",
    "predictedYs = []# classifier.predict(trainY)\n",
    "for classifier in Classifiers:\n",
    "    predictedYs.append(classifier.predict(trainY))"
   ]
  },
  {
   "cell_type": "code",
   "execution_count": null,
   "metadata": {},
   "outputs": [],
   "source": [
    "print(\"Evaluating results.....\")\n",
    "Names = ['Descion Tree:-','KNeighbors(5):-','Native Bayes :- ','Perceptron :-','SVC:-']\n",
    "count = 0\n",
    "for predictedY in predictedYs: \n",
    "    print(Names[count])\n",
    "    print()\n",
    "    print('Confusion Matrix')\n",
    "    print(metrics.confusion_matrix(predictedY,testY))\n",
    "    print('Accuracy : ', metrics.accuracy_score(predictedY, testY))\n",
    "    print('Macro-Recall :',metrics.recall_score(predictedY, testY,average = 'macro'))\n",
    "    print('Macro-Precision : ',metrics.precision_score(predictedY, testY,average = 'macro'))\n",
    "    print('Macro-F1 Score : ',metrics.f1_score(predictedY,testY,average = 'macro'))\n",
    "    print()\n",
    "    count+=1"
   ]
  },
  {
   "cell_type": "code",
   "execution_count": null,
   "metadata": {},
   "outputs": [],
   "source": []
  }
 ],
 "metadata": {
  "kernelspec": {
   "display_name": "Python 3",
   "language": "python",
   "name": "python3"
  },
  "language_info": {
   "codemirror_mode": {
    "name": "ipython",
    "version": 3
   },
   "file_extension": ".py",
   "mimetype": "text/x-python",
   "name": "python",
   "nbconvert_exporter": "python",
   "pygments_lexer": "ipython3",
   "version": "3.7.2-final"
  }
 },
 "nbformat": 4,
 "nbformat_minor": 2
}